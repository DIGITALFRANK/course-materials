{
 "cells": [
  {
   "cell_type": "markdown",
   "metadata": {},
   "source": [
    "Here's an old fake \"proof\" that 0 = 1. We'll use Python to show this \"proof\" fails."
   ]
  },
  {
   "cell_type": "markdown",
   "metadata": {},
   "source": [
    "# Proposition: For any $a \\in \\mathbb{R}$, $a = a + 1$, and so $0 = 1$. "
   ]
  },
  {
   "cell_type": "markdown",
   "metadata": {},
   "source": [
    "# \"Proof\":\n",
    "Let $a$, $b$ be real numbers such that \n",
    "$$a = b + 1.$$\n",
    "\n",
    "Multiply both sides by $a-b$ and expand:  \n",
    "$$\\begin{align*}\n",
    "(a-b)a & = (a-b)(b+1) \\\\\n",
    "a^2 - ba & = ab - b^2 + a - b.\n",
    "\\end{align*}$$\n",
    "\n",
    "Subtract $a$ from both sides and simplify: \n",
    "$$\\begin{align*}\n",
    "a^2 - ba - a & = ab - b^2 + a - b - a \\\\\n",
    " & = ab - b^2 - b.\n",
    "\\end{align*}$$\n",
    "\n",
    "Factor $a-b-1$ from both sides and simplify: \n",
    "$$\\begin{align*}\n",
    "a(a - b - 1) & = b(a - b - 1) \\\\\n",
    "a & = b.\n",
    "\\end{align*}$$\n",
    "\n",
    "Hence, any real number $a$ is equal to one more than itself. \n",
    "\n",
    "In particular, if $b = 0$, then $0 = 1$. $\\blacksquare$\n"
   ]
  },
  {
   "cell_type": "markdown",
   "metadata": {},
   "source": [
    "There is definitely a problem in this proof. \n",
    "\n",
    "The hypothesis that $a = b + 1$ means that $a - b - 1 = 0$, no matter what $b$ is. \n",
    "\n",
    "However, we divide both sides of the equation by $a-b-1$ in our last simplification, and division by zero is not valid arithmetic.\n",
    "\n",
    "If this simply-constructed proof were valid, we could run it algorithmically on examples.\n",
    "\n",
    "Let's try this in Python and see what Python says about the faulty logic."
   ]
  },
  {
   "cell_type": "code",
   "execution_count": 1,
   "metadata": {},
   "outputs": [
    {
     "name": "stdout",
     "output_type": "stream",
     "text": [
      "a = 1, b = 0\n"
     ]
    }
   ],
   "source": [
    "# Here's the setup: let a, b be real numbers such that \n",
    "b = 0\n",
    "a = b + 1\n",
    "print(\"a = \" + str(a) + \", b = \" + str(b))"
   ]
  },
  {
   "cell_type": "code",
   "execution_count": 2,
   "metadata": {},
   "outputs": [
    {
     "name": "stdout",
     "output_type": "stream",
     "text": [
      "(a-b) * a = 1, (a-b) * (b + 1) = 1\n"
     ]
    }
   ],
   "source": [
    "# Multiply both sides by a-b.\n",
    "c = (a-b) * a  \n",
    "d = (a-b) * (b + 1)\n",
    "print(\"(a-b) * a = \" + str(c) + \", (a-b) * (b + 1) = \" + str(d))"
   ]
  },
  {
   "cell_type": "code",
   "execution_count": 3,
   "metadata": {},
   "outputs": [
    {
     "name": "stdout",
     "output_type": "stream",
     "text": [
      "a**2 - b*a = 1, a*b - b**2 + a - b = 1\n"
     ]
    }
   ],
   "source": [
    "# Expand: a^2 - ba = ab - b^2 + a - b.\n",
    "c = a**2 - b*a  \n",
    "d = a*b - b**2 + a - b\n",
    "print(\"a**2 - b*a = \" + str(c) + \", a*b - b**2 + a - b = \" + str(d))"
   ]
  },
  {
   "cell_type": "code",
   "execution_count": 4,
   "metadata": {},
   "outputs": [
    {
     "name": "stdout",
     "output_type": "stream",
     "text": [
      "a**2 - b*a - a = 0, a*b - b**2 + a - b - a = 0\n"
     ]
    }
   ],
   "source": [
    "# Subtract a from both sides: a**2 - b*a - a = a*b - b**2 + a - b - a.\n",
    "c = a**2 - b*a - a\n",
    "d = a*b - b**2 + a - b - a\n",
    "print(\"a**2 - b*a - a = \" + str(c) + \", a*b - b**2 + a - b - a = \" + str(d))"
   ]
  },
  {
   "cell_type": "code",
   "execution_count": 5,
   "metadata": {},
   "outputs": [
    {
     "name": "stdout",
     "output_type": "stream",
     "text": [
      "a**2 - b*a - a = 0, a*b - b**2 - b = 0\n"
     ]
    }
   ],
   "source": [
    "# Simplify: this means combine a - a = 0 on the right side. \n",
    "# a**2 - ba - a = ab - b**2 - b.\n",
    "c = a**2 - b*a - a\n",
    "d = a*b - b**2 - b\n",
    "print(\"a**2 - b*a - a = \" + str(c) + \", a*b - b**2 - b = \" + str(d))"
   ]
  },
  {
   "cell_type": "code",
   "execution_count": 6,
   "metadata": {},
   "outputs": [
    {
     "name": "stdout",
     "output_type": "stream",
     "text": [
      "a * (a - b - 1) = 0, b * (a - b - 1) = 0\n"
     ]
    }
   ],
   "source": [
    "# Factor: a(a - b - 1) = b(a - b - 1).\n",
    "c = a * (a - b - 1)\n",
    "d = b * (a - b - 1)\n",
    "print(\"a * (a - b - 1) = \" + str(c) + \", b * (a - b - 1) = \" + str(d))\n",
    "\n",
    "# Everything up to here is fine, albeit a bit meaningless, since a - b - 1 = 0."
   ]
  },
  {
   "cell_type": "code",
   "execution_count": 7,
   "metadata": {},
   "outputs": [
    {
     "ename": "ZeroDivisionError",
     "evalue": "division by zero",
     "output_type": "error",
     "traceback": [
      "\u001b[0;31m---------------------------------------------------------------------------\u001b[0m",
      "\u001b[0;31mZeroDivisionError\u001b[0m                         Traceback (most recent call last)",
      "\u001b[0;32m<ipython-input-7-6306c66f94fc>\u001b[0m in \u001b[0;36m<module>\u001b[0;34m()\u001b[0m\n\u001b[1;32m      1\u001b[0m \u001b[0;31m# Simplify: this means divide both sides by (a-b-1): then a = b if division by zero were allowed.\u001b[0m\u001b[0;34m\u001b[0m\u001b[0;34m\u001b[0m\u001b[0m\n\u001b[0;32m----> 2\u001b[0;31m \u001b[0mc\u001b[0m \u001b[0;34m=\u001b[0m \u001b[0ma\u001b[0m \u001b[0;34m*\u001b[0m \u001b[0;34m(\u001b[0m\u001b[0ma\u001b[0m \u001b[0;34m-\u001b[0m \u001b[0mb\u001b[0m \u001b[0;34m-\u001b[0m \u001b[0;36m1\u001b[0m\u001b[0;34m)\u001b[0m \u001b[0;34m/\u001b[0m \u001b[0;34m(\u001b[0m\u001b[0ma\u001b[0m \u001b[0;34m-\u001b[0m \u001b[0mb\u001b[0m \u001b[0;34m-\u001b[0m \u001b[0;36m1\u001b[0m\u001b[0;34m)\u001b[0m\u001b[0;34m\u001b[0m\u001b[0m\n\u001b[0m\u001b[1;32m      3\u001b[0m \u001b[0md\u001b[0m \u001b[0;34m=\u001b[0m \u001b[0mb\u001b[0m \u001b[0;34m*\u001b[0m \u001b[0;34m(\u001b[0m\u001b[0ma\u001b[0m \u001b[0;34m-\u001b[0m \u001b[0mb\u001b[0m \u001b[0;34m-\u001b[0m \u001b[0;36m1\u001b[0m\u001b[0;34m)\u001b[0m \u001b[0;34m/\u001b[0m \u001b[0;34m(\u001b[0m\u001b[0ma\u001b[0m \u001b[0;34m-\u001b[0m \u001b[0mb\u001b[0m \u001b[0;34m-\u001b[0m \u001b[0;36m1\u001b[0m\u001b[0;34m)\u001b[0m\u001b[0;34m\u001b[0m\u001b[0m\n\u001b[1;32m      4\u001b[0m \u001b[0mprint\u001b[0m\u001b[0;34m(\u001b[0m\u001b[0;34m\"a * (a - b - 1) / (a - b - 1) = \"\u001b[0m \u001b[0;34m+\u001b[0m \u001b[0mstr\u001b[0m\u001b[0;34m(\u001b[0m\u001b[0mc\u001b[0m\u001b[0;34m)\u001b[0m \u001b[0;34m+\u001b[0m \u001b[0;34m\", b * (a - b - 1) / (a - b - 1) = \"\u001b[0m \u001b[0;34m+\u001b[0m \u001b[0mstr\u001b[0m\u001b[0;34m(\u001b[0m\u001b[0md\u001b[0m\u001b[0;34m)\u001b[0m\u001b[0;34m)\u001b[0m\u001b[0;34m\u001b[0m\u001b[0m\n\u001b[1;32m      5\u001b[0m \u001b[0;34m\u001b[0m\u001b[0m\n",
      "\u001b[0;31mZeroDivisionError\u001b[0m: division by zero"
     ]
    }
   ],
   "source": [
    "# Simplify: this means divide both sides by (a-b-1): then a = b if division by zero were allowed.\n",
    "c = a * (a - b - 1) / (a - b - 1)\n",
    "d = b * (a - b - 1) / (a - b - 1)\n",
    "print(\"a * (a - b - 1) / (a - b - 1) = \" + str(c) + \", b * (a - b - 1) / (a - b - 1) = \" + str(d))\n",
    "\n",
    "# Hence, this example, and therefore the proof, fails due to a division by zero error."
   ]
  },
  {
   "cell_type": "code",
   "execution_count": null,
   "metadata": {},
   "outputs": [],
   "source": []
  }
 ],
 "metadata": {
  "kernelspec": {
   "display_name": "Python 3",
   "language": "python",
   "name": "python3"
  },
  "language_info": {
   "codemirror_mode": {
    "name": "ipython",
    "version": 3
   },
   "file_extension": ".py",
   "mimetype": "text/x-python",
   "name": "python",
   "nbconvert_exporter": "python",
   "pygments_lexer": "ipython3",
   "version": "3.5.5"
  }
 },
 "nbformat": 4,
 "nbformat_minor": 1
}
