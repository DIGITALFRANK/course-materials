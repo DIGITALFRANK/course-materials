{
 "cells": [
  {
   "cell_type": "markdown",
   "metadata": {},
   "source": [
    "# MTH 4100 Spring 2018\n",
    "\n",
    "# Quiz 2 Solutions\n",
    "\n",
    "## Problem 1\n",
    "\n",
    "Let A be a $3 \\times 3$ matrix. \n",
    "\n",
    "(a) What is the matrix P that makes the product PA switch rows i and j of A?\n",
    "\n",
    "(b) What is the matrix E that makes the product EA scale row i of A by c?\n",
    "\n",
    "(c) What is the matrix $F^t$ that makes the product AF add c times column j of A to column k?\n",
    "\n",
    "(d) What is the matrix $G^{-1}$ that makes the product AG scale column j of A by c?\n",
    "\n",
    "Hint: Try examples on a sample $3 \\times 3$ matrix, such as \n",
    "\n",
    "$$A = \\begin{pmatrix}\n",
    "4 & -3 & 2 \\\\\n",
    "8 & 6 & 0 \\\\\n",
    "0 & 5 & -1\n",
    "\\end{pmatrix}$$\n",
    "\n"
   ]
  },
  {
   "cell_type": "code",
   "execution_count": 4,
   "metadata": {},
   "outputs": [
    {
     "data": {
      "text/plain": [
       "Matrix([\n",
       "[0,  5, -1],\n",
       "[8,  6,  0],\n",
       "[4, -3,  2]])"
      ]
     },
     "execution_count": 4,
     "metadata": {},
     "output_type": "execute_result"
    }
   ],
   "source": [
    "from sympy import *\n",
    "\n",
    "A = Matrix( [[4,-3,2], [8,6,0], [0,5,-1] ])\n",
    "\n",
    "#P = Matrix( [[0,1,0], [1,0,0], [0,0,1] ])  # switch r1, r2\n",
    "P = Matrix( [[0,0,1], [0,1,0], [1,0,0] ])  # switch r1, r3\n",
    "#P = Matrix( [[1,0,0], [0,0,1], [0,1,0] ])  # switch r2, r3\n",
    "P*A\n",
    "#P"
   ]
  },
  {
   "cell_type": "code",
   "execution_count": 6,
   "metadata": {},
   "outputs": [
    {
     "data": {
      "text/plain": [
       "Matrix([\n",
       "[ 4, -3,  2],\n",
       "[40, 30,  0],\n",
       "[ 0,  5, -1]])"
      ]
     },
     "execution_count": 6,
     "metadata": {},
     "output_type": "execute_result"
    }
   ],
   "source": [
    "#E = diag(1,1,-4) # scale r3 by -4\n",
    "#E = diag(1,1,-5) # scale r3 by -5\n",
    "E = diag(1,5,1) # scale r2 by 5\n",
    "#E = diag(-5,1,1) # scale r1 by -5\n",
    "E*A\n",
    "#E"
   ]
  },
  {
   "cell_type": "code",
   "execution_count": 8,
   "metadata": {},
   "outputs": [
    {
     "data": {
      "text/plain": [
       "Matrix([\n",
       "[4,  9,  2],\n",
       "[8,  6,  0],\n",
       "[0, -1, -1]])"
      ]
     },
     "execution_count": 8,
     "metadata": {},
     "output_type": "execute_result"
    }
   ],
   "source": [
    "#F = Matrix( [[1,0,4], [0,1,0], [0,0,1] ]) # add 4 x c1 to c3\n",
    "# NOTE: F*A adds 4 x r3 to r1\n",
    "\n",
    "#F = Matrix( [[1,0,0], [0,1,4], [0,0,1] ]) # add 4 x c2 to c3\n",
    "F = Matrix( [[1,0,0], [0,1,0], [0,6,1] ]) # add 6 x c3 to c2\n",
    "#F = Matrix( [[1,0,0], [0,1,6], [0,0,1] ]) # add 6 x c2 to c3\n",
    "A*F\n",
    "#F\n",
    "#F.transpose()\n"
   ]
  },
  {
   "cell_type": "code",
   "execution_count": 69,
   "metadata": {},
   "outputs": [
    {
     "data": {
      "text/plain": [
       "Matrix([\n",
       "[1/8, 0, 0],\n",
       "[  0, 1, 0],\n",
       "[  0, 0, 1]])"
      ]
     },
     "execution_count": 69,
     "metadata": {},
     "output_type": "execute_result"
    }
   ],
   "source": [
    "#G = Matrix( [[4,0,0], [0,1,0], [0,0,1] ]) # scale c1 of A by 4\n",
    "G = Matrix( [[8,0,0], [0,1,0], [0,0,1] ]) # scale c1 of A by 8\n",
    "#G = Matrix( [[-4,0,0], [0,1,0], [0,0,1] ]) # scale c1 of A by -4\n",
    "#G = Matrix( [[1,0,0], [0,9,0], [0,0,1] ]) # scale c2 of A by 9\n",
    "A*G\n",
    "G.inv()"
   ]
  },
  {
   "cell_type": "markdown",
   "metadata": {},
   "source": [
    "## Problem 2\n",
    "\n",
    "Consider the linear system $A\\vec{x} = b$ given by the equations \n",
    "\\begin{align*}\n",
    "4x + 8y + 5z & = 10 \\\\\n",
    "8x - 2y + 3z & = 18 \\\\\n",
    "2x - 7y - 2z & = 5.\n",
    "\\end{align*}\n",
    "\n",
    "(a) Solve the system of equations. \n",
    "\n",
    "(b) Give the $LDU$ factorization of the system's coefficient matrix.\n",
    "\n",
    "(c) Give the inverse of the system's coefficient matrix.\n",
    "\n",
    "(Hint: $L$ and $U$ should have 1 on their diagonals, and if you follow the elimination/substitution method, you'll do all three parts of the problem simultaneously. Be sure ALL answers are CLEARLY written and labeled. Check your answers.)\n"
   ]
  },
  {
   "cell_type": "code",
   "execution_count": 17,
   "metadata": {},
   "outputs": [
    {
     "data": {
      "text/plain": [
       "Matrix([\n",
       "[4,   8,  5],\n",
       "[0, -18, -7],\n",
       "[2,  -7, -2]])"
      ]
     },
     "execution_count": 17,
     "metadata": {},
     "output_type": "execute_result"
    }
   ],
   "source": [
    "from sympy import *\n",
    "b = Matrix([ [10],[18],[5] ])\n",
    "\n",
    "A = Matrix([ [4,8,5], [8,-2,3], [2,-7,-2] ])\n",
    "\n",
    "# Add -2 * row 1 to row 2.\n",
    "E = Matrix([ [1,0,0], [-2,1,0], [0,0,1] ]) \n",
    "E*A"
   ]
  },
  {
   "cell_type": "code",
   "execution_count": 18,
   "metadata": {},
   "outputs": [
    {
     "data": {
      "text/plain": [
       "Matrix([\n",
       "[4,     8,    5],\n",
       "[0,   -18,   -7],\n",
       "[0, -11.0, -4.5]])"
      ]
     },
     "execution_count": 18,
     "metadata": {},
     "output_type": "execute_result"
    }
   ],
   "source": [
    "# Then, add -1/2 * row 1 to row 3.\n",
    "F = Matrix([ [1,0,0], [0,1,0], [-1/2,0,1] ]) \n",
    "F*E*A"
   ]
  },
  {
   "cell_type": "code",
   "execution_count": 21,
   "metadata": {},
   "outputs": [
    {
     "data": {
      "text/plain": [
       "Matrix([\n",
       "[                1,                  0, 0],\n",
       "[               -2,                  1, 0],\n",
       "[0.722222222222222, -0.611111111111111, 1]])"
      ]
     },
     "execution_count": 21,
     "metadata": {},
     "output_type": "execute_result"
    }
   ],
   "source": [
    "# Finally, add -11/18 * row 2 to row 3.\n",
    "G = Matrix([ [1,0,0], [0,1,0], [0,-11/18,1] ]) \n",
    "Linv = G*F*E\n",
    "Linv"
   ]
  },
  {
   "cell_type": "code",
   "execution_count": 22,
   "metadata": {},
   "outputs": [
    {
     "data": {
      "text/plain": [
       "Matrix([\n",
       "[  1,                 0, 0],\n",
       "[  2,                 1, 0],\n",
       "[0.5, 0.611111111111111, 1]])"
      ]
     },
     "execution_count": 22,
     "metadata": {},
     "output_type": "execute_result"
    }
   ],
   "source": [
    "L = Linv.inv()\n",
    "L"
   ]
  },
  {
   "cell_type": "code",
   "execution_count": 24,
   "metadata": {},
   "outputs": [
    {
     "data": {
      "text/plain": [
       "Matrix([\n",
       "[4,                    8,                  5],\n",
       "[0,                  -18,                 -7],\n",
       "[0, 8.88178419700125e-16, -0.222222222222222]])"
      ]
     },
     "execution_count": 24,
     "metadata": {},
     "output_type": "execute_result"
    }
   ],
   "source": [
    "DU = G*F*E*A\n",
    "DU"
   ]
  },
  {
   "cell_type": "code",
   "execution_count": 26,
   "metadata": {},
   "outputs": [
    {
     "data": {
      "text/plain": [
       "Matrix([\n",
       "[1,                     2,               5/4],\n",
       "[0,                     1,              7/18],\n",
       "[0, -3.99680288865056e-15, 0.999999999999998]])"
      ]
     },
     "execution_count": 26,
     "metadata": {},
     "output_type": "execute_result"
    }
   ],
   "source": [
    "D = Matrix([ [4,0,0], [0,-18,0], [0,0,-2/9] ]) \n",
    "Dinv = D.inv()\n",
    "U = Dinv*DU\n",
    "U"
   ]
  },
  {
   "cell_type": "code",
   "execution_count": 27,
   "metadata": {},
   "outputs": [
    {
     "data": {
      "text/plain": [
       "Matrix([\n",
       "[ 39/8],\n",
       "[  9/4],\n",
       "[-11/2]])"
      ]
     },
     "execution_count": 27,
     "metadata": {},
     "output_type": "execute_result"
    }
   ],
   "source": [
    "A.LUsolve(b)"
   ]
  },
  {
   "cell_type": "code",
   "execution_count": 28,
   "metadata": {},
   "outputs": [
    {
     "data": {
      "text/plain": [
       "Matrix([\n",
       "[25/16, -19/16, 17/8],\n",
       "[ 11/8,   -9/8,  7/4],\n",
       "[-13/4,   11/4, -9/2]])"
      ]
     },
     "execution_count": 28,
     "metadata": {},
     "output_type": "execute_result"
    }
   ],
   "source": [
    "A.inv() # equals Uinv*Dinv*Linv"
   ]
  },
  {
   "cell_type": "code",
   "execution_count": null,
   "metadata": {},
   "outputs": [],
   "source": []
  }
 ],
 "metadata": {
  "kernelspec": {
   "display_name": "Python 3",
   "language": "python",
   "name": "python3"
  },
  "language_info": {
   "codemirror_mode": {
    "name": "ipython",
    "version": 3
   },
   "file_extension": ".py",
   "mimetype": "text/x-python",
   "name": "python",
   "nbconvert_exporter": "python",
   "pygments_lexer": "ipython3",
   "version": "3.6.8"
  }
 },
 "nbformat": 4,
 "nbformat_minor": 2
}
